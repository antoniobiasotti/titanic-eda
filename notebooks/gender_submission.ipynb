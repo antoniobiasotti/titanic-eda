{
 "cells": [
  {
   "cell_type": "code",
   "execution_count": 10,
   "id": "93a59d07-2aad-4514-bef8-8355ad3b3aff",
   "metadata": {},
   "outputs": [
    {
     "name": "stdout",
     "output_type": "stream",
     "text": [
      "%pylab is deprecated, use %matplotlib inline and import the required libraries.\n",
      "Populating the interactive namespace from numpy and matplotlib\n"
     ]
    }
   ],
   "source": [
    "import pandas as pd\n",
    "import numpy as np\n",
    "%matplotlib inline\n",
    "%pylab inline\n",
    "from sklearn.model_selection import KFold\n",
    "from sklearn.model_selection import RepeatedKFold\n",
    "from sklearn.ensemble import RandomForestClassifier"
   ]
  },
  {
   "cell_type": "code",
   "execution_count": 11,
   "id": "959bc767-b66a-4c92-96c9-116c9d18f596",
   "metadata": {},
   "outputs": [],
   "source": [
    "def transformar_sexo(valor):\n",
    "    if valor == 'female':\n",
    "        return 1\n",
    "    else:\n",
    "        return 0"
   ]
  },
  {
   "cell_type": "code",
   "execution_count": 12,
   "id": "903c9e72-64eb-45c0-b3c7-e7c81b4fd6f4",
   "metadata": {},
   "outputs": [],
   "source": [
    "train = pd.read_csv(\"../data/titanic/train.csv\")\n",
    "test = pd.read_csv(\"../data/titanic/test.csv\")\n",
    "\n",
    "train['Sex_binario'] = train['Sex'].map(transformar_sexo)\n",
    "test['Sex_binario'] = test['Sex'].map(transformar_sexo)\n",
    "\n",
    "variaveis = ['Sex_binario', 'Age']\n",
    "\n",
    "x = train[variaveis]\n",
    "y = train['Survived']"
   ]
  },
  {
   "cell_type": "code",
   "execution_count": 13,
   "id": "4df89ddc-069e-4a8f-ad08-964515d1523c",
   "metadata": {},
   "outputs": [
    {
     "data": {
      "text/html": [
       "<div>\n",
       "<style scoped>\n",
       "    .dataframe tbody tr th:only-of-type {\n",
       "        vertical-align: middle;\n",
       "    }\n",
       "\n",
       "    .dataframe tbody tr th {\n",
       "        vertical-align: top;\n",
       "    }\n",
       "\n",
       "    .dataframe thead th {\n",
       "        text-align: right;\n",
       "    }\n",
       "</style>\n",
       "<table border=\"1\" class=\"dataframe\">\n",
       "  <thead>\n",
       "    <tr style=\"text-align: right;\">\n",
       "      <th></th>\n",
       "      <th>PassengerId</th>\n",
       "      <th>Survived</th>\n",
       "      <th>Pclass</th>\n",
       "      <th>Name</th>\n",
       "      <th>Sex</th>\n",
       "      <th>Age</th>\n",
       "      <th>SibSp</th>\n",
       "      <th>Parch</th>\n",
       "      <th>Ticket</th>\n",
       "      <th>Fare</th>\n",
       "      <th>Cabin</th>\n",
       "      <th>Embarked</th>\n",
       "      <th>Sex_binario</th>\n",
       "    </tr>\n",
       "  </thead>\n",
       "  <tbody>\n",
       "    <tr>\n",
       "      <th>0</th>\n",
       "      <td>1</td>\n",
       "      <td>0</td>\n",
       "      <td>3</td>\n",
       "      <td>Braund, Mr. Owen Harris</td>\n",
       "      <td>male</td>\n",
       "      <td>22.0</td>\n",
       "      <td>1</td>\n",
       "      <td>0</td>\n",
       "      <td>A/5 21171</td>\n",
       "      <td>7.2500</td>\n",
       "      <td>NaN</td>\n",
       "      <td>S</td>\n",
       "      <td>0</td>\n",
       "    </tr>\n",
       "    <tr>\n",
       "      <th>1</th>\n",
       "      <td>2</td>\n",
       "      <td>1</td>\n",
       "      <td>1</td>\n",
       "      <td>Cumings, Mrs. John Bradley (Florence Briggs Th...</td>\n",
       "      <td>female</td>\n",
       "      <td>38.0</td>\n",
       "      <td>1</td>\n",
       "      <td>0</td>\n",
       "      <td>PC 17599</td>\n",
       "      <td>71.2833</td>\n",
       "      <td>C85</td>\n",
       "      <td>C</td>\n",
       "      <td>1</td>\n",
       "    </tr>\n",
       "    <tr>\n",
       "      <th>2</th>\n",
       "      <td>3</td>\n",
       "      <td>1</td>\n",
       "      <td>3</td>\n",
       "      <td>Heikkinen, Miss. Laina</td>\n",
       "      <td>female</td>\n",
       "      <td>26.0</td>\n",
       "      <td>0</td>\n",
       "      <td>0</td>\n",
       "      <td>STON/O2. 3101282</td>\n",
       "      <td>7.9250</td>\n",
       "      <td>NaN</td>\n",
       "      <td>S</td>\n",
       "      <td>1</td>\n",
       "    </tr>\n",
       "    <tr>\n",
       "      <th>3</th>\n",
       "      <td>4</td>\n",
       "      <td>1</td>\n",
       "      <td>1</td>\n",
       "      <td>Futrelle, Mrs. Jacques Heath (Lily May Peel)</td>\n",
       "      <td>female</td>\n",
       "      <td>35.0</td>\n",
       "      <td>1</td>\n",
       "      <td>0</td>\n",
       "      <td>113803</td>\n",
       "      <td>53.1000</td>\n",
       "      <td>C123</td>\n",
       "      <td>S</td>\n",
       "      <td>1</td>\n",
       "    </tr>\n",
       "    <tr>\n",
       "      <th>4</th>\n",
       "      <td>5</td>\n",
       "      <td>0</td>\n",
       "      <td>3</td>\n",
       "      <td>Allen, Mr. William Henry</td>\n",
       "      <td>male</td>\n",
       "      <td>35.0</td>\n",
       "      <td>0</td>\n",
       "      <td>0</td>\n",
       "      <td>373450</td>\n",
       "      <td>8.0500</td>\n",
       "      <td>NaN</td>\n",
       "      <td>S</td>\n",
       "      <td>0</td>\n",
       "    </tr>\n",
       "  </tbody>\n",
       "</table>\n",
       "</div>"
      ],
      "text/plain": [
       "   PassengerId  Survived  Pclass  \\\n",
       "0            1         0       3   \n",
       "1            2         1       1   \n",
       "2            3         1       3   \n",
       "3            4         1       1   \n",
       "4            5         0       3   \n",
       "\n",
       "                                                Name     Sex   Age  SibSp  \\\n",
       "0                            Braund, Mr. Owen Harris    male  22.0      1   \n",
       "1  Cumings, Mrs. John Bradley (Florence Briggs Th...  female  38.0      1   \n",
       "2                             Heikkinen, Miss. Laina  female  26.0      0   \n",
       "3       Futrelle, Mrs. Jacques Heath (Lily May Peel)  female  35.0      1   \n",
       "4                           Allen, Mr. William Henry    male  35.0      0   \n",
       "\n",
       "   Parch            Ticket     Fare Cabin Embarked  Sex_binario  \n",
       "0      0         A/5 21171   7.2500   NaN        S            0  \n",
       "1      0          PC 17599  71.2833   C85        C            1  \n",
       "2      0  STON/O2. 3101282   7.9250   NaN        S            1  \n",
       "3      0            113803  53.1000  C123        S            1  \n",
       "4      0            373450   8.0500   NaN        S            0  "
      ]
     },
     "execution_count": 13,
     "metadata": {},
     "output_type": "execute_result"
    }
   ],
   "source": [
    "train.head()"
   ]
  },
  {
   "cell_type": "code",
   "execution_count": 14,
   "id": "0e890ed3-aec7-4148-93ce-c56f531040e1",
   "metadata": {},
   "outputs": [
    {
     "name": "stdout",
     "output_type": "stream",
     "text": [
      "Treino: 445\n",
      "Valid: 446\n",
      "Acc: 0.7511210762331838\n",
      "\n",
      "Treino: 446\n",
      "Valid: 445\n",
      "Acc: 0.7617977528089888\n",
      "\n",
      "Treino: 445\n",
      "Valid: 446\n",
      "Acc: 0.7533632286995515\n",
      "\n",
      "Treino: 446\n",
      "Valid: 445\n",
      "Acc: 0.7595505617977528\n",
      "\n",
      "Treino: 445\n",
      "Valid: 446\n",
      "Acc: 0.7690582959641256\n",
      "\n",
      "Treino: 446\n",
      "Valid: 445\n",
      "Acc: 0.7573033707865169\n",
      "\n",
      "Treino: 445\n",
      "Valid: 446\n",
      "Acc: 0.7399103139013453\n",
      "\n",
      "Treino: 446\n",
      "Valid: 445\n",
      "Acc: 0.7573033707865169\n",
      "\n",
      "Treino: 445\n",
      "Valid: 446\n",
      "Acc: 0.7354260089686099\n",
      "\n",
      "Treino: 446\n",
      "Valid: 445\n",
      "Acc: 0.797752808988764\n",
      "\n",
      "Treino: 445\n",
      "Valid: 446\n",
      "Acc: 0.7690582959641256\n",
      "\n",
      "Treino: 446\n",
      "Valid: 445\n",
      "Acc: 0.7617977528089888\n",
      "\n",
      "Treino: 445\n",
      "Valid: 446\n",
      "Acc: 0.7757847533632287\n",
      "\n",
      "Treino: 446\n",
      "Valid: 445\n",
      "Acc: 0.7573033707865169\n",
      "\n",
      "Treino: 445\n",
      "Valid: 446\n",
      "Acc: 0.7556053811659192\n",
      "\n",
      "Treino: 446\n",
      "Valid: 445\n",
      "Acc: 0.7707865168539326\n",
      "\n",
      "Treino: 445\n",
      "Valid: 446\n",
      "Acc: 0.7443946188340808\n",
      "\n",
      "Treino: 446\n",
      "Valid: 445\n",
      "Acc: 0.7595505617977528\n",
      "\n",
      "Treino: 445\n",
      "Valid: 446\n",
      "Acc: 0.7533632286995515\n",
      "\n",
      "Treino: 446\n",
      "Valid: 445\n",
      "Acc: 0.7707865168539326\n",
      "\n"
     ]
    }
   ],
   "source": [
    "resultados = []\n",
    "kf = RepeatedKFold(n_splits=2,n_repeats=10, random_state=10)\n",
    "\n",
    "for linhas_treino, linhas_valid in kf.split(x):\n",
    "        print(\"Treino:\", linhas_treino.shape[0])\n",
    "        print(\"Valid:\", linhas_valid.shape[0])\n",
    "    \n",
    "        x_treino, x_valid = x.iloc[linhas_treino], x.iloc[linhas_valid]\n",
    "        y_treino, y_valid = y.iloc[linhas_treino], y.iloc[linhas_valid]\n",
    "    \n",
    "        modelo = RandomForestClassifier(n_estimators=100, n_jobs=-1, random_state=0)\n",
    "        modelo.fit(x_treino, y_treino)\n",
    "    \n",
    "        p = modelo.predict(x_valid)\n",
    "    \n",
    "        acc = np.mean(y_valid == p)\n",
    "        resultados.append(acc)\n",
    "        print(\"Acc:\", acc)\n",
    "        print()\n",
    "        \n",
    "        #print(x_treino.head())\n",
    "        #print()"
   ]
  },
  {
   "cell_type": "code",
   "execution_count": 15,
   "id": "91818eab-f62b-4d08-bd91-46a61d6c62ae",
   "metadata": {},
   "outputs": [
    {
     "data": {
      "text/plain": [
       "[np.float64(0.7511210762331838),\n",
       " np.float64(0.7617977528089888),\n",
       " np.float64(0.7533632286995515),\n",
       " np.float64(0.7595505617977528),\n",
       " np.float64(0.7690582959641256),\n",
       " np.float64(0.7573033707865169),\n",
       " np.float64(0.7399103139013453),\n",
       " np.float64(0.7573033707865169),\n",
       " np.float64(0.7354260089686099),\n",
       " np.float64(0.797752808988764),\n",
       " np.float64(0.7690582959641256),\n",
       " np.float64(0.7617977528089888),\n",
       " np.float64(0.7757847533632287),\n",
       " np.float64(0.7573033707865169),\n",
       " np.float64(0.7556053811659192),\n",
       " np.float64(0.7707865168539326),\n",
       " np.float64(0.7443946188340808),\n",
       " np.float64(0.7595505617977528),\n",
       " np.float64(0.7533632286995515),\n",
       " np.float64(0.7707865168539326)]"
      ]
     },
     "execution_count": 15,
     "metadata": {},
     "output_type": "execute_result"
    }
   ],
   "source": [
    "resultados"
   ]
  },
  {
   "cell_type": "code",
   "execution_count": 16,
   "id": "596cbc75-7533-4bff-a350-511d396adb00",
   "metadata": {},
   "outputs": [
    {
     "data": {
      "text/plain": [
       "np.float64(0.7600508893031692)"
      ]
     },
     "execution_count": 16,
     "metadata": {},
     "output_type": "execute_result"
    }
   ],
   "source": [
    "np.mean(resultados)"
   ]
  },
  {
   "cell_type": "code",
   "execution_count": 17,
   "id": "f018f98a-78cb-4d48-af84-6cd9d52af7f5",
   "metadata": {},
   "outputs": [
    {
     "data": {
      "text/plain": [
       "(array([2., 1., 3., 6., 2., 4., 1., 0., 0., 1.]),\n",
       " array([0.73542601, 0.74165869, 0.74789137, 0.75412405, 0.76035673,\n",
       "        0.76658941, 0.77282209, 0.77905477, 0.78528745, 0.79152013,\n",
       "        0.79775281]),\n",
       " <BarContainer object of 10 artists>)"
      ]
     },
     "execution_count": 17,
     "metadata": {},
     "output_type": "execute_result"
    },
    {
     "data": {
      "image/png": "[encoded data removed]",
      "text/plain": [
       "<Figure size 640x480 with 1 Axes>"
      ]
     },
     "metadata": {},
     "output_type": "display_data"
    }
   ],
   "source": [
    "pylab.hist(resultados)"
   ]
  },
  {
   "cell_type": "code",
   "execution_count": 18,
   "id": "caa8a695-48bb-425d-99dd-685a5b735a7a",
   "metadata": {},
   "outputs": [
    {
     "data": {
      "text/plain": [
       "[np.float64(0.7511210762331838),\n",
       " np.float64(0.7617977528089888),\n",
       " np.float64(0.7533632286995515),\n",
       " np.float64(0.7595505617977528),\n",
       " np.float64(0.7690582959641256),\n",
       " np.float64(0.7573033707865169),\n",
       " np.float64(0.7399103139013453),\n",
       " np.float64(0.7573033707865169),\n",
       " np.float64(0.7354260089686099),\n",
       " np.float64(0.797752808988764),\n",
       " np.float64(0.7690582959641256),\n",
       " np.float64(0.7617977528089888),\n",
       " np.float64(0.7757847533632287),\n",
       " np.float64(0.7573033707865169),\n",
       " np.float64(0.7556053811659192),\n",
       " np.float64(0.7707865168539326),\n",
       " np.float64(0.7443946188340808),\n",
       " np.float64(0.7595505617977528),\n",
       " np.float64(0.7533632286995515),\n",
       " np.float64(0.7707865168539326)]"
      ]
     },
     "execution_count": 18,
     "metadata": {},
     "output_type": "execute_result"
    }
   ],
   "source": [
    "resultados"
   ]
  },
  {
   "cell_type": "code",
   "execution_count": 19,
   "id": "9595707b-35fd-4d0d-8843-f695c6875ac7",
   "metadata": {},
   "outputs": [],
   "source": [
    "modelo_anterior = 0.80414571"
   ]
  },
  {
   "cell_type": "code",
   "execution_count": 20,
   "id": "97324afb-7906-4aa6-9380-af7bb1613f4a",
   "metadata": {},
   "outputs": [
    {
     "data": {
      "text/html": [
       "<div>\n",
       "<style scoped>\n",
       "    .dataframe tbody tr th:only-of-type {\n",
       "        vertical-align: middle;\n",
       "    }\n",
       "\n",
       "    .dataframe tbody tr th {\n",
       "        vertical-align: top;\n",
       "    }\n",
       "\n",
       "    .dataframe thead th {\n",
       "        text-align: right;\n",
       "    }\n",
       "</style>\n",
       "<table border=\"1\" class=\"dataframe\">\n",
       "  <thead>\n",
       "    <tr style=\"text-align: right;\">\n",
       "      <th></th>\n",
       "      <th>PassengerId</th>\n",
       "      <th>Survived</th>\n",
       "      <th>Pclass</th>\n",
       "      <th>Name</th>\n",
       "      <th>Sex</th>\n",
       "      <th>Age</th>\n",
       "      <th>SibSp</th>\n",
       "      <th>Parch</th>\n",
       "      <th>Ticket</th>\n",
       "      <th>Fare</th>\n",
       "      <th>Cabin</th>\n",
       "      <th>Embarked</th>\n",
       "      <th>Sex_binario</th>\n",
       "    </tr>\n",
       "  </thead>\n",
       "  <tbody>\n",
       "    <tr>\n",
       "      <th>0</th>\n",
       "      <td>1</td>\n",
       "      <td>0</td>\n",
       "      <td>3</td>\n",
       "      <td>Braund, Mr. Owen Harris</td>\n",
       "      <td>male</td>\n",
       "      <td>22.0</td>\n",
       "      <td>1</td>\n",
       "      <td>0</td>\n",
       "      <td>A/5 21171</td>\n",
       "      <td>7.2500</td>\n",
       "      <td>NaN</td>\n",
       "      <td>S</td>\n",
       "      <td>0</td>\n",
       "    </tr>\n",
       "    <tr>\n",
       "      <th>1</th>\n",
       "      <td>2</td>\n",
       "      <td>1</td>\n",
       "      <td>1</td>\n",
       "      <td>Cumings, Mrs. John Bradley (Florence Briggs Th...</td>\n",
       "      <td>female</td>\n",
       "      <td>38.0</td>\n",
       "      <td>1</td>\n",
       "      <td>0</td>\n",
       "      <td>PC 17599</td>\n",
       "      <td>71.2833</td>\n",
       "      <td>C85</td>\n",
       "      <td>C</td>\n",
       "      <td>1</td>\n",
       "    </tr>\n",
       "    <tr>\n",
       "      <th>2</th>\n",
       "      <td>3</td>\n",
       "      <td>1</td>\n",
       "      <td>3</td>\n",
       "      <td>Heikkinen, Miss. Laina</td>\n",
       "      <td>female</td>\n",
       "      <td>26.0</td>\n",
       "      <td>0</td>\n",
       "      <td>0</td>\n",
       "      <td>STON/O2. 3101282</td>\n",
       "      <td>7.9250</td>\n",
       "      <td>NaN</td>\n",
       "      <td>S</td>\n",
       "      <td>1</td>\n",
       "    </tr>\n",
       "    <tr>\n",
       "      <th>3</th>\n",
       "      <td>4</td>\n",
       "      <td>1</td>\n",
       "      <td>1</td>\n",
       "      <td>Futrelle, Mrs. Jacques Heath (Lily May Peel)</td>\n",
       "      <td>female</td>\n",
       "      <td>35.0</td>\n",
       "      <td>1</td>\n",
       "      <td>0</td>\n",
       "      <td>113803</td>\n",
       "      <td>53.1000</td>\n",
       "      <td>C123</td>\n",
       "      <td>S</td>\n",
       "      <td>1</td>\n",
       "    </tr>\n",
       "    <tr>\n",
       "      <th>4</th>\n",
       "      <td>5</td>\n",
       "      <td>0</td>\n",
       "      <td>3</td>\n",
       "      <td>Allen, Mr. William Henry</td>\n",
       "      <td>male</td>\n",
       "      <td>35.0</td>\n",
       "      <td>0</td>\n",
       "      <td>0</td>\n",
       "      <td>373450</td>\n",
       "      <td>8.0500</td>\n",
       "      <td>NaN</td>\n",
       "      <td>S</td>\n",
       "      <td>0</td>\n",
       "    </tr>\n",
       "  </tbody>\n",
       "</table>\n",
       "</div>"
      ],
      "text/plain": [
       "   PassengerId  Survived  Pclass  \\\n",
       "0            1         0       3   \n",
       "1            2         1       1   \n",
       "2            3         1       3   \n",
       "3            4         1       1   \n",
       "4            5         0       3   \n",
       "\n",
       "                                                Name     Sex   Age  SibSp  \\\n",
       "0                            Braund, Mr. Owen Harris    male  22.0      1   \n",
       "1  Cumings, Mrs. John Bradley (Florence Briggs Th...  female  38.0      1   \n",
       "2                             Heikkinen, Miss. Laina  female  26.0      0   \n",
       "3       Futrelle, Mrs. Jacques Heath (Lily May Peel)  female  35.0      1   \n",
       "4                           Allen, Mr. William Henry    male  35.0      0   \n",
       "\n",
       "   Parch            Ticket     Fare Cabin Embarked  Sex_binario  \n",
       "0      0         A/5 21171   7.2500   NaN        S            0  \n",
       "1      0          PC 17599  71.2833   C85        C            1  \n",
       "2      0  STON/O2. 3101282   7.9250   NaN        S            1  \n",
       "3      0            113803  53.1000  C123        S            1  \n",
       "4      0            373450   8.0500   NaN        S            0  "
      ]
     },
     "execution_count": 20,
     "metadata": {},
     "output_type": "execute_result"
    }
   ],
   "source": [
    "train.head()"
   ]
  },
  {
   "cell_type": "code",
   "execution_count": 21,
   "id": "aa048b48-fef8-4ecc-9e69-d28a44cf2d88",
   "metadata": {},
   "outputs": [],
   "source": [
    "variaveis = ['Sex_binario', 'Age', 'Pclass', 'SibSp', 'Parch', 'Fare']"
   ]
  },
  {
   "cell_type": "code",
   "execution_count": 22,
   "id": "68ae3bd4-79d0-4740-af4b-50ae98dd6650",
   "metadata": {},
   "outputs": [],
   "source": [
    "x = train[variaveis].fillna(-1)\n",
    "y = train['Survived']"
   ]
  },
  {
   "cell_type": "code",
   "execution_count": 23,
   "id": "455569de-6a2a-44ab-8fc3-772f6d156a96",
   "metadata": {},
   "outputs": [
    {
     "name": "stdout",
     "output_type": "stream",
     "text": [
      "Treino: 445\n",
      "Valid: 446\n",
      "Acc: 0.7869955156950673\n",
      "\n",
      "Treino: 446\n",
      "Valid: 445\n",
      "Acc: 0.7797752808988764\n",
      "\n",
      "Treino: 445\n",
      "Valid: 446\n",
      "Acc: 0.827354260089686\n",
      "\n",
      "Treino: 446\n",
      "Valid: 445\n",
      "Acc: 0.8179775280898877\n",
      "\n",
      "Treino: 445\n",
      "Valid: 446\n",
      "Acc: 0.7847533632286996\n",
      "\n",
      "Treino: 446\n",
      "Valid: 445\n",
      "Acc: 0.7842696629213484\n",
      "\n",
      "Treino: 445\n",
      "Valid: 446\n",
      "Acc: 0.8161434977578476\n",
      "\n",
      "Treino: 446\n",
      "Valid: 445\n",
      "Acc: 0.7842696629213484\n",
      "\n",
      "Treino: 445\n",
      "Valid: 446\n",
      "Acc: 0.8004484304932735\n",
      "\n",
      "Treino: 446\n",
      "Valid: 445\n",
      "Acc: 0.8\n",
      "\n",
      "Treino: 445\n",
      "Valid: 446\n",
      "Acc: 0.8183856502242153\n",
      "\n",
      "Treino: 446\n",
      "Valid: 445\n",
      "Acc: 0.802247191011236\n",
      "\n",
      "Treino: 445\n",
      "Valid: 446\n",
      "Acc: 0.8116591928251121\n",
      "\n",
      "Treino: 446\n",
      "Valid: 445\n",
      "Acc: 0.8067415730337079\n",
      "\n",
      "Treino: 445\n",
      "Valid: 446\n",
      "Acc: 0.820627802690583\n",
      "\n",
      "Treino: 446\n",
      "Valid: 445\n",
      "Acc: 0.7887640449438202\n",
      "\n",
      "Treino: 445\n",
      "Valid: 446\n",
      "Acc: 0.8385650224215246\n",
      "\n",
      "Treino: 446\n",
      "Valid: 445\n",
      "Acc: 0.8044943820224719\n",
      "\n",
      "Treino: 445\n",
      "Valid: 446\n",
      "Acc: 0.7982062780269058\n",
      "\n",
      "Treino: 446\n",
      "Valid: 445\n",
      "Acc: 0.8112359550561797\n",
      "\n"
     ]
    }
   ],
   "source": [
    "resultados = []\n",
    "kf = RepeatedKFold(n_splits=2,n_repeats=10, random_state=10)\n",
    "\n",
    "for linhas_treino, linhas_valid in kf.split(x):\n",
    "        print(\"Treino:\", linhas_treino.shape[0])\n",
    "        print(\"Valid:\", linhas_valid.shape[0])\n",
    "    \n",
    "        x_treino, x_valid = x.iloc[linhas_treino], x.iloc[linhas_valid]\n",
    "        y_treino, y_valid = y.iloc[linhas_treino], y.iloc[linhas_valid]\n",
    "    \n",
    "        modelo = RandomForestClassifier(n_estimators=100, n_jobs=-1, random_state=0)\n",
    "        modelo.fit(x_treino, y_treino)\n",
    "    \n",
    "        p = modelo.predict(x_valid)\n",
    "    \n",
    "        acc = np.mean(y_valid == p)\n",
    "        resultados.append(acc)\n",
    "        print(\"Acc:\", acc)\n",
    "        print()\n",
    "        \n",
    "        #print(x_treino.head())\n",
    "        #print()"
   ]
  },
  {
   "cell_type": "code",
   "execution_count": 24,
   "id": "71ab60c6-4947-48f0-aa71-dbe674f9acd8",
   "metadata": {},
   "outputs": [
    {
     "data": {
      "text/plain": [
       "(array([4., 2., 0., 4., 2., 2., 4., 0., 1., 1.]),\n",
       " array([0.77977528, 0.78565426, 0.79153323, 0.7974122 , 0.80329118,\n",
       "        0.80917015, 0.81504913, 0.8209281 , 0.82680707, 0.83268605,\n",
       "        0.83856502]),\n",
       " <BarContainer object of 10 artists>)"
      ]
     },
     "execution_count": 24,
     "metadata": {},
     "output_type": "execute_result"
    },
    {
     "data": {
      "image/png": "[encoded data removed]",
      "text/plain": [
       "<Figure size 640x480 with 1 Axes>"
      ]
     },
     "metadata": {},
     "output_type": "display_data"
    }
   ],
   "source": [
    "pylab.hist(resultados)"
   ]
  },
  {
   "cell_type": "code",
   "execution_count": 25,
   "id": "19b5d817-4181-46b5-95f8-aec83323eba7",
   "metadata": {},
   "outputs": [
    {
     "data": {
      "text/plain": [
       "np.float64(0.8041457147175896)"
      ]
     },
     "execution_count": 25,
     "metadata": {},
     "output_type": "execute_result"
    }
   ],
   "source": [
    "np.mean(resultados)"
   ]
  },
  {
   "cell_type": "code",
   "execution_count": 26,
   "id": "55b2e9b6-e367-4cfe-a2b6-702d88cd7e09",
   "metadata": {},
   "outputs": [],
   "source": [
    "# Retreinar o Modelo"
   ]
  },
  {
   "cell_type": "code",
   "execution_count": 27,
   "id": "c43a735e-8306-4380-8ff4-176206ccf0c6",
   "metadata": {},
   "outputs": [
    {
     "data": {
      "text/html": [
       "<div>\n",
       "<style scoped>\n",
       "    .dataframe tbody tr th:only-of-type {\n",
       "        vertical-align: middle;\n",
       "    }\n",
       "\n",
       "    .dataframe tbody tr th {\n",
       "        vertical-align: top;\n",
       "    }\n",
       "\n",
       "    .dataframe thead th {\n",
       "        text-align: right;\n",
       "    }\n",
       "</style>\n",
       "<table border=\"1\" class=\"dataframe\">\n",
       "  <thead>\n",
       "    <tr style=\"text-align: right;\">\n",
       "      <th></th>\n",
       "      <th>Sex_binario</th>\n",
       "      <th>Age</th>\n",
       "      <th>Pclass</th>\n",
       "      <th>SibSp</th>\n",
       "      <th>Parch</th>\n",
       "      <th>Fare</th>\n",
       "    </tr>\n",
       "  </thead>\n",
       "  <tbody>\n",
       "    <tr>\n",
       "      <th>0</th>\n",
       "      <td>0</td>\n",
       "      <td>22.0</td>\n",
       "      <td>3</td>\n",
       "      <td>1</td>\n",
       "      <td>0</td>\n",
       "      <td>7.2500</td>\n",
       "    </tr>\n",
       "    <tr>\n",
       "      <th>1</th>\n",
       "      <td>1</td>\n",
       "      <td>38.0</td>\n",
       "      <td>1</td>\n",
       "      <td>1</td>\n",
       "      <td>0</td>\n",
       "      <td>71.2833</td>\n",
       "    </tr>\n",
       "    <tr>\n",
       "      <th>2</th>\n",
       "      <td>1</td>\n",
       "      <td>26.0</td>\n",
       "      <td>3</td>\n",
       "      <td>0</td>\n",
       "      <td>0</td>\n",
       "      <td>7.9250</td>\n",
       "    </tr>\n",
       "    <tr>\n",
       "      <th>3</th>\n",
       "      <td>1</td>\n",
       "      <td>35.0</td>\n",
       "      <td>1</td>\n",
       "      <td>1</td>\n",
       "      <td>0</td>\n",
       "      <td>53.1000</td>\n",
       "    </tr>\n",
       "    <tr>\n",
       "      <th>4</th>\n",
       "      <td>0</td>\n",
       "      <td>35.0</td>\n",
       "      <td>3</td>\n",
       "      <td>0</td>\n",
       "      <td>0</td>\n",
       "      <td>8.0500</td>\n",
       "    </tr>\n",
       "  </tbody>\n",
       "</table>\n",
       "</div>"
      ],
      "text/plain": [
       "   Sex_binario   Age  Pclass  SibSp  Parch     Fare\n",
       "0            0  22.0       3      1      0   7.2500\n",
       "1            1  38.0       1      1      0  71.2833\n",
       "2            1  26.0       3      0      0   7.9250\n",
       "3            1  35.0       1      1      0  53.1000\n",
       "4            0  35.0       3      0      0   8.0500"
      ]
     },
     "execution_count": 27,
     "metadata": {},
     "output_type": "execute_result"
    }
   ],
   "source": [
    "x.head()"
   ]
  },
  {
   "cell_type": "code",
   "execution_count": 28,
   "id": "907c023a-91b5-4fa9-ac8d-a0d2c2f65c2c",
   "metadata": {},
   "outputs": [
    {
     "data": {
      "text/plain": [
       "0    0\n",
       "1    1\n",
       "2    1\n",
       "3    1\n",
       "4    0\n",
       "Name: Survived, dtype: int64"
      ]
     },
     "execution_count": 28,
     "metadata": {},
     "output_type": "execute_result"
    }
   ],
   "source": [
    "y.head()"
   ]
  },
  {
   "cell_type": "code",
   "execution_count": 29,
   "id": "ee161748-7da3-477f-95ce-2be858b231cc",
   "metadata": {},
   "outputs": [
    {
     "data": {
      "text/html": [
       "<div>\n",
       "<style scoped>\n",
       "    .dataframe tbody tr th:only-of-type {\n",
       "        vertical-align: middle;\n",
       "    }\n",
       "\n",
       "    .dataframe tbody tr th {\n",
       "        vertical-align: top;\n",
       "    }\n",
       "\n",
       "    .dataframe thead th {\n",
       "        text-align: right;\n",
       "    }\n",
       "</style>\n",
       "<table border=\"1\" class=\"dataframe\">\n",
       "  <thead>\n",
       "    <tr style=\"text-align: right;\">\n",
       "      <th></th>\n",
       "      <th>Sex_binario</th>\n",
       "      <th>Age</th>\n",
       "      <th>Pclass</th>\n",
       "      <th>SibSp</th>\n",
       "      <th>Parch</th>\n",
       "      <th>Fare</th>\n",
       "    </tr>\n",
       "  </thead>\n",
       "  <tbody>\n",
       "    <tr>\n",
       "      <th>0</th>\n",
       "      <td>0</td>\n",
       "      <td>34.5</td>\n",
       "      <td>3</td>\n",
       "      <td>0</td>\n",
       "      <td>0</td>\n",
       "      <td>7.8292</td>\n",
       "    </tr>\n",
       "    <tr>\n",
       "      <th>1</th>\n",
       "      <td>1</td>\n",
       "      <td>47.0</td>\n",
       "      <td>3</td>\n",
       "      <td>1</td>\n",
       "      <td>0</td>\n",
       "      <td>7.0000</td>\n",
       "    </tr>\n",
       "    <tr>\n",
       "      <th>2</th>\n",
       "      <td>0</td>\n",
       "      <td>62.0</td>\n",
       "      <td>2</td>\n",
       "      <td>0</td>\n",
       "      <td>0</td>\n",
       "      <td>9.6875</td>\n",
       "    </tr>\n",
       "    <tr>\n",
       "      <th>3</th>\n",
       "      <td>0</td>\n",
       "      <td>27.0</td>\n",
       "      <td>3</td>\n",
       "      <td>0</td>\n",
       "      <td>0</td>\n",
       "      <td>8.6625</td>\n",
       "    </tr>\n",
       "    <tr>\n",
       "      <th>4</th>\n",
       "      <td>1</td>\n",
       "      <td>22.0</td>\n",
       "      <td>3</td>\n",
       "      <td>1</td>\n",
       "      <td>1</td>\n",
       "      <td>12.2875</td>\n",
       "    </tr>\n",
       "  </tbody>\n",
       "</table>\n",
       "</div>"
      ],
      "text/plain": [
       "   Sex_binario   Age  Pclass  SibSp  Parch     Fare\n",
       "0            0  34.5       3      0      0   7.8292\n",
       "1            1  47.0       3      1      0   7.0000\n",
       "2            0  62.0       2      0      0   9.6875\n",
       "3            0  27.0       3      0      0   8.6625\n",
       "4            1  22.0       3      1      1  12.2875"
      ]
     },
     "execution_count": 29,
     "metadata": {},
     "output_type": "execute_result"
    }
   ],
   "source": [
    "test[variaveis].head()"
   ]
  },
  {
   "cell_type": "code",
   "execution_count": 30,
   "id": "a47d89b0-6b04-4f32-af4a-a5837e682a19",
   "metadata": {},
   "outputs": [],
   "source": [
    "modelo = RandomForestClassifier(n_estimators=100, n_jobs=-1, random_state=0)\n",
    "modelo.fit(x, y)\n",
    "\n",
    "p = modelo.predict(test[variaveis].fillna(-1))"
   ]
  },
  {
   "cell_type": "code",
   "execution_count": 31,
   "id": "ff2fd52c-97f3-4ddd-bd22-ed476e63feee",
   "metadata": {},
   "outputs": [],
   "source": [
    "# Criar Submission"
   ]
  },
  {
   "cell_type": "code",
   "execution_count": 32,
   "id": "31ce8c09-d416-409c-9ad3-ce8dea14a33e",
   "metadata": {},
   "outputs": [
    {
     "data": {
      "text/plain": [
       "(418,)"
      ]
     },
     "execution_count": 32,
     "metadata": {},
     "output_type": "execute_result"
    }
   ],
   "source": [
    "sub = pd.Series(p, index = test['PassengerId'], name='Survived')\n",
    "sub.shape"
   ]
  },
  {
   "cell_type": "code",
   "execution_count": 33,
   "id": "01fa993d-b6cd-496b-a119-a3c5e79612c8",
   "metadata": {},
   "outputs": [],
   "source": [
    "sub.to_csv('modelo_video5.csv', header=True)"
   ]
  },
  {
   "cell_type": "code",
   "execution_count": 34,
   "id": "d2c92c81-6d5e-425d-9293-81cb0b7598f4",
   "metadata": {},
   "outputs": [
    {
     "data": {
      "text/plain": [
       "array([0.2668296 , 0.25055132, 0.08282296, 0.04979339, 0.0454384 ,\n",
       "       0.30456432])"
      ]
     },
     "execution_count": 34,
     "metadata": {},
     "output_type": "execute_result"
    }
   ],
   "source": [
    "modelo.feature_importances_"
   ]
  },
  {
   "cell_type": "code",
   "execution_count": 35,
   "id": "ea929b19-d65e-461a-b4b3-cf111fae5c42",
   "metadata": {},
   "outputs": [
    {
     "data": {
      "text/plain": [
       "100"
      ]
     },
     "execution_count": 35,
     "metadata": {},
     "output_type": "execute_result"
    }
   ],
   "source": [
    "modelo.n_estimators"
   ]
  },
  {
   "cell_type": "code",
   "execution_count": 36,
   "id": "2dfbd17e-248e-4b3e-aaf4-b527a41013f4",
   "metadata": {},
   "outputs": [
    {
     "data": {
      "text/plain": [
       "0.9820426487093153"
      ]
     },
     "execution_count": 36,
     "metadata": {},
     "output_type": "execute_result"
    }
   ],
   "source": [
    "accuracy = modelo.score(x, y)\n",
    "accuracy"
   ]
  }
 ],
 "metadata": {
  "kernelspec": {
   "display_name": "Python (titanic-eda)",
   "language": "python",
   "name": "venv"
  },
  "language_info": {
   "codemirror_mode": {
    "name": "ipython",
    "version": 3
   },
   "file_extension": ".py",
   "mimetype": "text/x-python",
   "name": "python",
   "nbconvert_exporter": "python",
   "pygments_lexer": "ipython3",
   "version": "3.13.1"
  }
 },
 "nbformat": 4,
 "nbformat_minor": 5
}
